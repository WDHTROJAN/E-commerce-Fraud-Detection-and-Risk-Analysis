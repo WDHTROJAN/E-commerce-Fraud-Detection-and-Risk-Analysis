{
  "nbformat": 4,
  "nbformat_minor": 0,
  "metadata": {
    "colab": {
      "name": "Copy of fraudDetectionCode_Py3.ipynb",
      "provenance": [],
      "collapsed_sections": []
    },
    "kernelspec": {
      "name": "python3",
      "display_name": "Python 3"
    }
  },
  "cells": [
    {
      "cell_type": "markdown",
      "metadata": {
        "id": "_9kY9wz0swQs"
      },
      "source": [
        "# Please click File -> ***save a copy*** in your own drive, then play with the copy, instead of run this file. "
      ]
    },
    {
      "cell_type": "markdown",
      "metadata": {
        "id": "_EbKIUQZSc30"
      },
      "source": [
        "Summary of Fraud Detection Code Lab\n",
        "- Data is highly imbalanced\n",
        "- Features of interval_after_signup and time related raw and aggregates are highly predictive of fraud\n",
        "- Made actionable operation recommendations/proposal for business"
      ]
    },
    {
      "cell_type": "markdown",
      "metadata": {
        "id": "zfjXN4EwS3eo"
      },
      "source": [
        "Data Exploration"
      ]
    },
    {
      "cell_type": "code",
      "metadata": {
        "id": "iSjSPRXiRQuI"
      },
      "source": [
        "import pandas as pd\n",
        "import numpy as np\n",
        "import time\n",
        "import matplotlib.pyplot as plt\n",
        "import pandas as pd\n",
        "from sklearn import metrics\n",
        "from sklearn.metrics import roc_curve\n",
        "from sklearn.model_selection import train_test_split\n",
        "from sklearn.linear_model import LogisticRegression\n",
        "from sklearn.ensemble import RandomForestClassifier\n",
        "from imblearn.over_sampling import SMOTE\n",
        "from sklearn import preprocessing\n",
        "from sklearn.preprocessing import MinMaxScaler\n",
        "from sklearn.metrics import f1_score, roc_auc_score, roc_curve, precision_recall_curve, auc, make_scorer, recall_score, accuracy_score, precision_score, confusion_matrix\n",
        "from sklearn.model_selection import GridSearchCV"
      ],
      "execution_count": null,
      "outputs": []
    },
    {
      "cell_type": "code",
      "metadata": {
        "id": "wYoVO3FrguFn",
        "outputId": "63fe5ab7-5c3e-4c96-b8f0-099c89b49b16",
        "colab": {
          "base_uri": "https://localhost:8080/",
          "height": 34
        }
      },
      "source": [
        "!git clone https://github.com/loganlaioffer/fraudDetection.git"
      ],
      "execution_count": null,
      "outputs": [
        {
          "output_type": "stream",
          "text": [
            "fatal: destination path 'fraudDetection' already exists and is not an empty directory.\n"
          ],
          "name": "stdout"
        }
      ]
    },
    {
      "cell_type": "code",
      "metadata": {
        "id": "NFGniid5hHqu",
        "outputId": "86cb821b-74ad-4f40-8760-16b0cae21df1",
        "colab": {
          "base_uri": "https://localhost:8080/",
          "height": 664
        }
      },
      "source": [
        "!cd fraudDetection/\n",
        "!ls fraudDetection/\n",
        "!pip install -U imbalanced-learn\n",
        "!pip install pandas-profiling"
      ],
      "execution_count": null,
      "outputs": [
        {
          "output_type": "stream",
          "text": [
            "cv_data.csv   imbalancedFraudDF.csv\ttest_data.csv\ttr_server_data.csv\n",
            "cv_label.csv  IpAddress_to_Country.csv\ttest_label.csv\n",
            "Collecting imbalanced-learn\n",
            "\u001b[?25l  Downloading https://files.pythonhosted.org/packages/c8/81/8db4d87b03b998fda7c6f835d807c9ae4e3b141f978597b8d7f31600be15/imbalanced_learn-0.7.0-py3-none-any.whl (167kB)\n",
            "\u001b[K     |████████████████████████████████| 174kB 4.9MB/s \n",
            "\u001b[?25hCollecting scikit-learn>=0.23\n",
            "\u001b[?25l  Downloading https://files.pythonhosted.org/packages/5c/a1/273def87037a7fb010512bbc5901c31cfddfca8080bc63b42b26e3cc55b3/scikit_learn-0.23.2-cp36-cp36m-manylinux1_x86_64.whl (6.8MB)\n",
            "\u001b[K     |████████████████████████████████| 6.8MB 15.4MB/s \n",
            "\u001b[?25hRequirement already satisfied, skipping upgrade: numpy>=1.13.3 in /usr/local/lib/python3.6/dist-packages (from imbalanced-learn) (1.18.5)\n",
            "Requirement already satisfied, skipping upgrade: joblib>=0.11 in /usr/local/lib/python3.6/dist-packages (from imbalanced-learn) (0.16.0)\n",
            "Requirement already satisfied, skipping upgrade: scipy>=0.19.1 in /usr/local/lib/python3.6/dist-packages (from imbalanced-learn) (1.4.1)\n",
            "Collecting threadpoolctl>=2.0.0\n",
            "  Downloading https://files.pythonhosted.org/packages/f7/12/ec3f2e203afa394a149911729357aa48affc59c20e2c1c8297a60f33f133/threadpoolctl-2.1.0-py3-none-any.whl\n",
            "Installing collected packages: threadpoolctl, scikit-learn, imbalanced-learn\n",
            "  Found existing installation: scikit-learn 0.22.2.post1\n",
            "    Uninstalling scikit-learn-0.22.2.post1:\n",
            "      Successfully uninstalled scikit-learn-0.22.2.post1\n",
            "  Found existing installation: imbalanced-learn 0.4.3\n",
            "    Uninstalling imbalanced-learn-0.4.3:\n",
            "      Successfully uninstalled imbalanced-learn-0.4.3\n",
            "Successfully installed imbalanced-learn-0.7.0 scikit-learn-0.23.2 threadpoolctl-2.1.0\n"
          ],
          "name": "stdout"
        },
        {
          "output_type": "display_data",
          "data": {
            "application/vnd.colab-display-data+json": {
              "pip_warning": {
                "packages": [
                  "imblearn",
                  "sklearn"
                ]
              }
            }
          },
          "metadata": {
            "tags": []
          }
        },
        {
          "output_type": "stream",
          "text": [
            "Requirement already satisfied: pandas-profiling in /usr/local/lib/python3.6/dist-packages (1.4.1)\n",
            "Requirement already satisfied: pandas>=0.19 in /usr/local/lib/python3.6/dist-packages (from pandas-profiling) (1.0.5)\n",
            "Requirement already satisfied: matplotlib>=1.4 in /usr/local/lib/python3.6/dist-packages (from pandas-profiling) (3.2.2)\n",
            "Requirement already satisfied: six>=1.9 in /usr/local/lib/python3.6/dist-packages (from pandas-profiling) (1.15.0)\n",
            "Requirement already satisfied: jinja2>=2.8 in /usr/local/lib/python3.6/dist-packages (from pandas-profiling) (2.11.2)\n",
            "Requirement already satisfied: numpy>=1.13.3 in /usr/local/lib/python3.6/dist-packages (from pandas>=0.19->pandas-profiling) (1.18.5)\n",
            "Requirement already satisfied: python-dateutil>=2.6.1 in /usr/local/lib/python3.6/dist-packages (from pandas>=0.19->pandas-profiling) (2.8.1)\n",
            "Requirement already satisfied: pytz>=2017.2 in /usr/local/lib/python3.6/dist-packages (from pandas>=0.19->pandas-profiling) (2018.9)\n",
            "Requirement already satisfied: pyparsing!=2.0.4,!=2.1.2,!=2.1.6,>=2.0.1 in /usr/local/lib/python3.6/dist-packages (from matplotlib>=1.4->pandas-profiling) (2.4.7)\n",
            "Requirement already satisfied: cycler>=0.10 in /usr/local/lib/python3.6/dist-packages (from matplotlib>=1.4->pandas-profiling) (0.10.0)\n",
            "Requirement already satisfied: kiwisolver>=1.0.1 in /usr/local/lib/python3.6/dist-packages (from matplotlib>=1.4->pandas-profiling) (1.2.0)\n",
            "Requirement already satisfied: MarkupSafe>=0.23 in /usr/local/lib/python3.6/dist-packages (from jinja2>=2.8->pandas-profiling) (1.1.1)\n"
          ],
          "name": "stdout"
        }
      ]
    },
    {
      "cell_type": "code",
      "metadata": {
        "id": "thNVhMYcTASW",
        "outputId": "e869c83e-407d-44ab-d19f-61e783038fce",
        "colab": {
          "base_uri": "https://localhost:8080/",
          "height": 204
        }
      },
      "source": [
        "ipURL = 'https://github.com/loganlaioffer/fraudDetection/blob/master/IpAddress_to_Country.csv'\n",
        "fraudURL = 'https://github.com/loganlaioffer/fraudDetection/blob/master/imbalancedFraudDF.csv'\n",
        "\n",
        "ipToCountry = pd.read_csv('fraudDetection/IpAddress_to_Country.csv')\n",
        "fraud_data = pd.read_csv('fraudDetection/imbalancedFraudDF.csv')\n",
        "\n",
        "fraud_data.head()\n"
      ],
      "execution_count": null,
      "outputs": [
        {
          "output_type": "execute_result",
          "data": {
            "text/html": [
              "<div>\n",
              "<style scoped>\n",
              "    .dataframe tbody tr th:only-of-type {\n",
              "        vertical-align: middle;\n",
              "    }\n",
              "\n",
              "    .dataframe tbody tr th {\n",
              "        vertical-align: top;\n",
              "    }\n",
              "\n",
              "    .dataframe thead th {\n",
              "        text-align: right;\n",
              "    }\n",
              "</style>\n",
              "<table border=\"1\" class=\"dataframe\">\n",
              "  <thead>\n",
              "    <tr style=\"text-align: right;\">\n",
              "      <th></th>\n",
              "      <th>user_id</th>\n",
              "      <th>signup_time</th>\n",
              "      <th>purchase_time</th>\n",
              "      <th>purchase_value</th>\n",
              "      <th>device_id</th>\n",
              "      <th>source</th>\n",
              "      <th>browser</th>\n",
              "      <th>sex</th>\n",
              "      <th>age</th>\n",
              "      <th>ip_address</th>\n",
              "      <th>class</th>\n",
              "    </tr>\n",
              "  </thead>\n",
              "  <tbody>\n",
              "    <tr>\n",
              "      <th>0</th>\n",
              "      <td>22058</td>\n",
              "      <td>2015-02-24 22:55:49</td>\n",
              "      <td>2015-04-18 02:47:11</td>\n",
              "      <td>34</td>\n",
              "      <td>QVPSPJUOCKZAR</td>\n",
              "      <td>SEO</td>\n",
              "      <td>Chrome</td>\n",
              "      <td>M</td>\n",
              "      <td>39</td>\n",
              "      <td>7.327584e+08</td>\n",
              "      <td>0</td>\n",
              "    </tr>\n",
              "    <tr>\n",
              "      <th>1</th>\n",
              "      <td>333320</td>\n",
              "      <td>2015-06-07 20:39:50</td>\n",
              "      <td>2015-06-08 01:38:54</td>\n",
              "      <td>16</td>\n",
              "      <td>EOGFQPIZPYXFZ</td>\n",
              "      <td>Ads</td>\n",
              "      <td>Chrome</td>\n",
              "      <td>F</td>\n",
              "      <td>53</td>\n",
              "      <td>3.503114e+08</td>\n",
              "      <td>0</td>\n",
              "    </tr>\n",
              "    <tr>\n",
              "      <th>2</th>\n",
              "      <td>150084</td>\n",
              "      <td>2015-04-28 21:13:25</td>\n",
              "      <td>2015-05-04 13:54:50</td>\n",
              "      <td>44</td>\n",
              "      <td>ATGTXKYKUDUQN</td>\n",
              "      <td>SEO</td>\n",
              "      <td>Safari</td>\n",
              "      <td>M</td>\n",
              "      <td>41</td>\n",
              "      <td>3.840542e+09</td>\n",
              "      <td>0</td>\n",
              "    </tr>\n",
              "    <tr>\n",
              "      <th>3</th>\n",
              "      <td>221365</td>\n",
              "      <td>2015-07-21 07:09:52</td>\n",
              "      <td>2015-09-09 18:40:53</td>\n",
              "      <td>39</td>\n",
              "      <td>NAUITBZFJKHWW</td>\n",
              "      <td>Ads</td>\n",
              "      <td>Safari</td>\n",
              "      <td>M</td>\n",
              "      <td>45</td>\n",
              "      <td>4.155831e+08</td>\n",
              "      <td>0</td>\n",
              "    </tr>\n",
              "    <tr>\n",
              "      <th>4</th>\n",
              "      <td>159135</td>\n",
              "      <td>2015-05-21 06:03:03</td>\n",
              "      <td>2015-07-09 08:05:14</td>\n",
              "      <td>42</td>\n",
              "      <td>ALEYXFXINSXLZ</td>\n",
              "      <td>Ads</td>\n",
              "      <td>Chrome</td>\n",
              "      <td>M</td>\n",
              "      <td>18</td>\n",
              "      <td>2.809315e+09</td>\n",
              "      <td>0</td>\n",
              "    </tr>\n",
              "  </tbody>\n",
              "</table>\n",
              "</div>"
            ],
            "text/plain": [
              "   user_id          signup_time        purchase_time  ...  age    ip_address class\n",
              "0    22058  2015-02-24 22:55:49  2015-04-18 02:47:11  ...   39  7.327584e+08     0\n",
              "1   333320  2015-06-07 20:39:50  2015-06-08 01:38:54  ...   53  3.503114e+08     0\n",
              "2   150084  2015-04-28 21:13:25  2015-05-04 13:54:50  ...   41  3.840542e+09     0\n",
              "3   221365  2015-07-21 07:09:52  2015-09-09 18:40:53  ...   45  4.155831e+08     0\n",
              "4   159135  2015-05-21 06:03:03  2015-07-09 08:05:14  ...   18  2.809315e+09     0\n",
              "\n",
              "[5 rows x 11 columns]"
            ]
          },
          "metadata": {
            "tags": []
          },
          "execution_count": 5
        }
      ]
    },
    {
      "cell_type": "code",
      "metadata": {
        "id": "quhyL2WSgrX7",
        "outputId": "9d56823f-dff7-40b9-c9e3-7aadb4dd6d9b",
        "colab": {
          "base_uri": "https://localhost:8080/",
          "height": 68
        }
      },
      "source": [
        "#Distribution of the label column\n",
        "fraud_data['class'].value_counts()"
      ],
      "execution_count": null,
      "outputs": [
        {
          "output_type": "execute_result",
          "data": {
            "text/plain": [
              "0    136961\n",
              "1      1415\n",
              "Name: class, dtype: int64"
            ]
          },
          "metadata": {
            "tags": []
          },
          "execution_count": 7
        }
      ]
    },
    {
      "cell_type": "markdown",
      "metadata": {
        "id": "Cf7HYj9piiq8"
      },
      "source": [
        "Missing values, outlier?"
      ]
    },
    {
      "cell_type": "code",
      "metadata": {
        "id": "KwG6iF08ikTk",
        "outputId": "88d09280-b258-4a67-a11d-aabc19729ac0",
        "colab": {
          "base_uri": "https://localhost:8080/",
          "height": 221
        }
      },
      "source": [
        "# count of NaN in each column\n",
        "fraud_data.isna().sum()\n",
        "#fraud_data.isnull().sum(axis = 0)\n",
        "\n",
        "#HW: check count of fraud that is outliers"
      ],
      "execution_count": null,
      "outputs": [
        {
          "output_type": "execute_result",
          "data": {
            "text/plain": [
              "user_id           0\n",
              "signup_time       0\n",
              "purchase_time     0\n",
              "purchase_value    0\n",
              "device_id         0\n",
              "source            0\n",
              "browser           0\n",
              "sex               0\n",
              "age               0\n",
              "ip_address        0\n",
              "class             0\n",
              "dtype: int64"
            ]
          },
          "metadata": {
            "tags": []
          },
          "execution_count": 9
        }
      ]
    },
    {
      "cell_type": "code",
      "metadata": {
        "id": "2U50sqcWhmsV",
        "outputId": "a4467466-c89a-48bc-9dfb-b73f92d6a8a1",
        "colab": {
          "base_uri": "https://localhost:8080/",
          "height": 204
        }
      },
      "source": [
        "# Identify country info based on ip_address\n",
        "\n",
        "ipToCountry.head()"
      ],
      "execution_count": null,
      "outputs": [
        {
          "output_type": "execute_result",
          "data": {
            "text/html": [
              "<div>\n",
              "<style scoped>\n",
              "    .dataframe tbody tr th:only-of-type {\n",
              "        vertical-align: middle;\n",
              "    }\n",
              "\n",
              "    .dataframe tbody tr th {\n",
              "        vertical-align: top;\n",
              "    }\n",
              "\n",
              "    .dataframe thead th {\n",
              "        text-align: right;\n",
              "    }\n",
              "</style>\n",
              "<table border=\"1\" class=\"dataframe\">\n",
              "  <thead>\n",
              "    <tr style=\"text-align: right;\">\n",
              "      <th></th>\n",
              "      <th>lower_bound_ip_address</th>\n",
              "      <th>upper_bound_ip_address</th>\n",
              "      <th>country</th>\n",
              "    </tr>\n",
              "  </thead>\n",
              "  <tbody>\n",
              "    <tr>\n",
              "      <th>0</th>\n",
              "      <td>16777216.0</td>\n",
              "      <td>16777471</td>\n",
              "      <td>Australia</td>\n",
              "    </tr>\n",
              "    <tr>\n",
              "      <th>1</th>\n",
              "      <td>16777472.0</td>\n",
              "      <td>16777727</td>\n",
              "      <td>China</td>\n",
              "    </tr>\n",
              "    <tr>\n",
              "      <th>2</th>\n",
              "      <td>16777728.0</td>\n",
              "      <td>16778239</td>\n",
              "      <td>China</td>\n",
              "    </tr>\n",
              "    <tr>\n",
              "      <th>3</th>\n",
              "      <td>16778240.0</td>\n",
              "      <td>16779263</td>\n",
              "      <td>Australia</td>\n",
              "    </tr>\n",
              "    <tr>\n",
              "      <th>4</th>\n",
              "      <td>16779264.0</td>\n",
              "      <td>16781311</td>\n",
              "      <td>China</td>\n",
              "    </tr>\n",
              "  </tbody>\n",
              "</table>\n",
              "</div>"
            ],
            "text/plain": [
              "   lower_bound_ip_address  upper_bound_ip_address    country\n",
              "0              16777216.0                16777471  Australia\n",
              "1              16777472.0                16777727      China\n",
              "2              16777728.0                16778239      China\n",
              "3              16778240.0                16779263  Australia\n",
              "4              16779264.0                16781311      China"
            ]
          },
          "metadata": {
            "tags": []
          },
          "execution_count": 10
        }
      ]
    },
    {
      "cell_type": "code",
      "metadata": {
        "id": "-qR-Hpd7iuoF",
        "outputId": "92674392-d3cf-42dd-d408-f13bb3481c55",
        "colab": {
          "base_uri": "https://localhost:8080/",
          "height": 34
        }
      },
      "source": [
        "\n",
        "start = time.time()\n",
        "\n",
        "countries = []\n",
        "for i in range(len(fraud_data)):\n",
        "    ip_address = fraud_data.loc[i, 'ip_address']#number\n",
        "    #below [] is list of T/F, tmp is a df of shape n * 3, where n is 1 if found a match or 0 if no match\n",
        "    tmp = ipToCountry[(ipToCountry['lower_bound_ip_address'] <= ip_address) &\n",
        "                    (ipToCountry['upper_bound_ip_address'] >= ip_address)]\n",
        "    if len(tmp) == 1:#found match\n",
        "        countries.append(tmp['country'].values[0])\n",
        "    else:#no match\n",
        "        countries.append('NA')\n",
        "        \n",
        "fraud_data['country'] = countries\n",
        "runtime = time.time() - start \n",
        "\n",
        "print(\"Lookup took\", runtime, \"seconds.\")\n",
        "\n"
      ],
      "execution_count": null,
      "outputs": [
        {
          "output_type": "stream",
          "text": [
            "Lookup took 188.1263554096222 seconds.\n"
          ],
          "name": "stdout"
        }
      ]
    },
    {
      "cell_type": "code",
      "metadata": {
        "id": "yKrH6LbkiyGK",
        "outputId": "21bd7783-ad9c-4332-dfe4-efc6bea91580",
        "colab": {
          "base_uri": "https://localhost:8080/",
          "height": 51
        }
      },
      "source": [
        "ip_address = fraud_data.loc[6, 'ip_address']\n",
        "tmp = ipToCountry[(ipToCountry['lower_bound_ip_address'] <= ip_address) &\n",
        "                    (ipToCountry['upper_bound_ip_address'] >= ip_address)]\n",
        "print(tmp)"
      ],
      "execution_count": null,
      "outputs": [
        {
          "output_type": "stream",
          "text": [
            "       lower_bound_ip_address  upper_bound_ip_address        country\n",
            "28203            1.686110e+09              1694498815  United States\n"
          ],
          "name": "stdout"
        }
      ]
    },
    {
      "cell_type": "markdown",
      "metadata": {
        "id": "uuhVhuHVjqH-"
      },
      "source": [
        "Q: can you optimize the above look-up process?"
      ]
    },
    {
      "cell_type": "markdown",
      "metadata": {
        "id": "7naxDmI4jpgp"
      },
      "source": [
        "Feature Engineering(What types of features can we use?)"
      ]
    },
    {
      "cell_type": "markdown",
      "metadata": {
        "id": "56bW53YijpMG"
      },
      "source": [
        "Q: How to check if column user_id is unique(no dup) for time related aggregates?"
      ]
    },
    {
      "cell_type": "code",
      "metadata": {
        "id": "E5a3x5Qlj1eb",
        "outputId": "74eda983-e596-48e6-898a-3835f8597dd8",
        "colab": {
          "base_uri": "https://localhost:8080/",
          "height": 51
        }
      },
      "source": [
        "print(fraud_data.user_id.nunique())#138376\n",
        "print(len(fraud_data.index))#138376\n",
        "#all of the user_id has only the first 1 transaction, no way to do time based aggregates, \n",
        "#e.g. amount/counts in past 1 day for this user"
      ],
      "execution_count": null,
      "outputs": [
        {
          "output_type": "stream",
          "text": [
            "138376\n",
            "138376\n"
          ],
          "name": "stdout"
        }
      ]
    },
    {
      "cell_type": "code",
      "metadata": {
        "id": "XfqVxIEkmeAO"
      },
      "source": [
        "#time related features: can be done before split, as they has no interaction between other rows, solely based on other columns of the same row\n",
        "fraud_data['interval_after_signup'] = (pd.to_datetime(fraud_data['purchase_time']) - pd.to_datetime(\n",
        "        fraud_data['signup_time'])).dt.total_seconds()\n",
        "\n",
        "fraud_data['signup_days_of_year'] = pd.DatetimeIndex(fraud_data['signup_time']).dayofyear\n",
        "\n",
        "#bed time operation\n",
        "fraud_data['signup_seconds_of_day'] = pd.DatetimeIndex(fraud_data['signup_time']).second + 60 * pd.DatetimeIndex(\n",
        "    fraud_data['signup_time']).minute + 3600 * pd.DatetimeIndex(fraud_data['signup_time']).hour\n",
        "\n",
        "fraud_data['purchase_days_of_year'] = pd.DatetimeIndex(fraud_data['purchase_time']).dayofyear\n",
        "fraud_data['purchase_seconds_of_day'] = pd.DatetimeIndex(fraud_data['purchase_time']).second + 60 * pd.DatetimeIndex(\n",
        "    fraud_data['purchase_time']).minute + 3600 * pd.DatetimeIndex(fraud_data['purchase_time']).hour\n",
        "\n",
        "fraud_data = fraud_data.drop(['user_id','signup_time','purchase_time'], axis=1)"
      ],
      "execution_count": null,
      "outputs": []
    },
    {
      "cell_type": "code",
      "metadata": {
        "id": "GxeoVxccnT_9",
        "outputId": "a05afa34-9398-465f-a4b7-c926cbea2d99",
        "colab": {
          "base_uri": "https://localhost:8080/",
          "height": 204
        }
      },
      "source": [
        "fraud_data.head()\n",
        "#note there are NAs in country"
      ],
      "execution_count": null,
      "outputs": [
        {
          "output_type": "execute_result",
          "data": {
            "text/html": [
              "<div>\n",
              "<style scoped>\n",
              "    .dataframe tbody tr th:only-of-type {\n",
              "        vertical-align: middle;\n",
              "    }\n",
              "\n",
              "    .dataframe tbody tr th {\n",
              "        vertical-align: top;\n",
              "    }\n",
              "\n",
              "    .dataframe thead th {\n",
              "        text-align: right;\n",
              "    }\n",
              "</style>\n",
              "<table border=\"1\" class=\"dataframe\">\n",
              "  <thead>\n",
              "    <tr style=\"text-align: right;\">\n",
              "      <th></th>\n",
              "      <th>purchase_value</th>\n",
              "      <th>device_id</th>\n",
              "      <th>source</th>\n",
              "      <th>browser</th>\n",
              "      <th>sex</th>\n",
              "      <th>age</th>\n",
              "      <th>ip_address</th>\n",
              "      <th>class</th>\n",
              "      <th>country</th>\n",
              "      <th>interval_after_signup</th>\n",
              "      <th>signup_days_of_year</th>\n",
              "      <th>signup_seconds_of_day</th>\n",
              "      <th>purchase_days_of_year</th>\n",
              "      <th>purchase_seconds_of_day</th>\n",
              "    </tr>\n",
              "  </thead>\n",
              "  <tbody>\n",
              "    <tr>\n",
              "      <th>0</th>\n",
              "      <td>34</td>\n",
              "      <td>QVPSPJUOCKZAR</td>\n",
              "      <td>SEO</td>\n",
              "      <td>Chrome</td>\n",
              "      <td>M</td>\n",
              "      <td>39</td>\n",
              "      <td>7.327584e+08</td>\n",
              "      <td>0</td>\n",
              "      <td>Japan</td>\n",
              "      <td>4506682.0</td>\n",
              "      <td>55</td>\n",
              "      <td>82549</td>\n",
              "      <td>108</td>\n",
              "      <td>10031</td>\n",
              "    </tr>\n",
              "    <tr>\n",
              "      <th>1</th>\n",
              "      <td>16</td>\n",
              "      <td>EOGFQPIZPYXFZ</td>\n",
              "      <td>Ads</td>\n",
              "      <td>Chrome</td>\n",
              "      <td>F</td>\n",
              "      <td>53</td>\n",
              "      <td>3.503114e+08</td>\n",
              "      <td>0</td>\n",
              "      <td>United States</td>\n",
              "      <td>17944.0</td>\n",
              "      <td>158</td>\n",
              "      <td>74390</td>\n",
              "      <td>159</td>\n",
              "      <td>5934</td>\n",
              "    </tr>\n",
              "    <tr>\n",
              "      <th>2</th>\n",
              "      <td>44</td>\n",
              "      <td>ATGTXKYKUDUQN</td>\n",
              "      <td>SEO</td>\n",
              "      <td>Safari</td>\n",
              "      <td>M</td>\n",
              "      <td>41</td>\n",
              "      <td>3.840542e+09</td>\n",
              "      <td>0</td>\n",
              "      <td>NA</td>\n",
              "      <td>492085.0</td>\n",
              "      <td>118</td>\n",
              "      <td>76405</td>\n",
              "      <td>124</td>\n",
              "      <td>50090</td>\n",
              "    </tr>\n",
              "    <tr>\n",
              "      <th>3</th>\n",
              "      <td>39</td>\n",
              "      <td>NAUITBZFJKHWW</td>\n",
              "      <td>Ads</td>\n",
              "      <td>Safari</td>\n",
              "      <td>M</td>\n",
              "      <td>45</td>\n",
              "      <td>4.155831e+08</td>\n",
              "      <td>0</td>\n",
              "      <td>United States</td>\n",
              "      <td>4361461.0</td>\n",
              "      <td>202</td>\n",
              "      <td>25792</td>\n",
              "      <td>252</td>\n",
              "      <td>67253</td>\n",
              "    </tr>\n",
              "    <tr>\n",
              "      <th>4</th>\n",
              "      <td>42</td>\n",
              "      <td>ALEYXFXINSXLZ</td>\n",
              "      <td>Ads</td>\n",
              "      <td>Chrome</td>\n",
              "      <td>M</td>\n",
              "      <td>18</td>\n",
              "      <td>2.809315e+09</td>\n",
              "      <td>0</td>\n",
              "      <td>Canada</td>\n",
              "      <td>4240931.0</td>\n",
              "      <td>141</td>\n",
              "      <td>21783</td>\n",
              "      <td>190</td>\n",
              "      <td>29114</td>\n",
              "    </tr>\n",
              "  </tbody>\n",
              "</table>\n",
              "</div>"
            ],
            "text/plain": [
              "   purchase_value  ... purchase_seconds_of_day\n",
              "0              34  ...                   10031\n",
              "1              16  ...                    5934\n",
              "2              44  ...                   50090\n",
              "3              39  ...                   67253\n",
              "4              42  ...                   29114\n",
              "\n",
              "[5 rows x 14 columns]"
            ]
          },
          "metadata": {
            "tags": []
          },
          "execution_count": 15
        }
      ]
    },
    {
      "cell_type": "code",
      "metadata": {
        "id": "vn7GvQhEnWWp",
        "outputId": "a494b004-5c13-408b-ca5a-4da7de379b34",
        "colab": {
          "base_uri": "https://localhost:8080/",
          "height": 85
        }
      },
      "source": [
        "print(fraud_data.source.value_counts()) "
      ],
      "execution_count": null,
      "outputs": [
        {
          "output_type": "stream",
          "text": [
            "SEO       55766\n",
            "Ads       54913\n",
            "Direct    27697\n",
            "Name: source, dtype: int64\n"
          ],
          "name": "stdout"
        }
      ]
    },
    {
      "cell_type": "markdown",
      "metadata": {
        "id": "R8dUOiALnmX0"
      },
      "source": [
        "Q: What now? train/test split? convert categorical features e.g. device_id to numericals? or SMOTE sampling?"
      ]
    },
    {
      "cell_type": "markdown",
      "metadata": {
        "id": "LZk-zPKNnqnv"
      },
      "source": [
        "what is smote?\n",
        "\n",
        "What if convert source column by OHE now?\n",
        "it's a sneak peek of the levels of this column in test data, what if there is another new level \"newsPaper\" in source column in test, or one column in test data has larger range compared to that of train data? info leak, should not know this ahead of time in training\n",
        "\n"
      ]
    },
    {
      "cell_type": "code",
      "metadata": {
        "id": "-nTN1t_8njt1",
        "outputId": "c23e1c8e-6dc4-49d5-c3d5-71263649c0af",
        "colab": {
          "base_uri": "https://localhost:8080/",
          "height": 51
        }
      },
      "source": [
        "y = fraud_data['class']\n",
        "X = fraud_data.drop(['class'], axis=1)\n",
        "\n",
        "#split into train/test\n",
        "X_train, X_test, y_train, y_test = train_test_split(X, y, test_size=0.2, random_state=0)\n",
        "print(\"X_train.shape:\", X_train.shape)\n",
        "print(\"y_train.shape:\", y_train.shape)"
      ],
      "execution_count": null,
      "outputs": [
        {
          "output_type": "stream",
          "text": [
            "X_train.shape: (110700, 13)\n",
            "y_train.shape: (110700,)\n"
          ],
          "name": "stdout"
        }
      ]
    },
    {
      "cell_type": "code",
      "metadata": {
        "id": "TICjky2Hqc0D",
        "outputId": "48b5314c-7a3e-42aa-8779-9a8bd94e982d",
        "colab": {
          "base_uri": "https://localhost:8080/",
          "height": 221
        }
      },
      "source": [
        "X_train['country'].value_counts(ascending=True)\n",
        "#drawback: collision in the same bucket(no differentiation for these countries)"
      ],
      "execution_count": null,
      "outputs": [
        {
          "output_type": "execute_result",
          "data": {
            "text/plain": [
              "Gibraltar                    1\n",
              "Myanmar                      1\n",
              "Saint Kitts and Nevis        1\n",
              "Benin                        1\n",
              "Cape Verde                   1\n",
              "                         ...  \n",
              "United Kingdom            3253\n",
              "Japan                     5251\n",
              "China                     8876\n",
              "NA                       16275\n",
              "United States            42348\n",
              "Name: country, Length: 177, dtype: int64"
            ]
          },
          "metadata": {
            "tags": []
          },
          "execution_count": 18
        }
      ]
    },
    {
      "cell_type": "code",
      "metadata": {
        "id": "anLm7Gl2n5oZ",
        "outputId": "c5231b86-6e74-4388-eb66-dd18ab728a6f",
        "colab": {
          "base_uri": "https://localhost:8080/",
          "height": 204
        }
      },
      "source": [
        "X_train.head()"
      ],
      "execution_count": null,
      "outputs": [
        {
          "output_type": "execute_result",
          "data": {
            "text/html": [
              "<div>\n",
              "<style scoped>\n",
              "    .dataframe tbody tr th:only-of-type {\n",
              "        vertical-align: middle;\n",
              "    }\n",
              "\n",
              "    .dataframe tbody tr th {\n",
              "        vertical-align: top;\n",
              "    }\n",
              "\n",
              "    .dataframe thead th {\n",
              "        text-align: right;\n",
              "    }\n",
              "</style>\n",
              "<table border=\"1\" class=\"dataframe\">\n",
              "  <thead>\n",
              "    <tr style=\"text-align: right;\">\n",
              "      <th></th>\n",
              "      <th>purchase_value</th>\n",
              "      <th>device_id</th>\n",
              "      <th>source</th>\n",
              "      <th>browser</th>\n",
              "      <th>sex</th>\n",
              "      <th>age</th>\n",
              "      <th>ip_address</th>\n",
              "      <th>country</th>\n",
              "      <th>interval_after_signup</th>\n",
              "      <th>signup_days_of_year</th>\n",
              "      <th>signup_seconds_of_day</th>\n",
              "      <th>purchase_days_of_year</th>\n",
              "      <th>purchase_seconds_of_day</th>\n",
              "    </tr>\n",
              "  </thead>\n",
              "  <tbody>\n",
              "    <tr>\n",
              "      <th>29343</th>\n",
              "      <td>12</td>\n",
              "      <td>OULPAZAFRFPXP</td>\n",
              "      <td>Ads</td>\n",
              "      <td>Chrome</td>\n",
              "      <td>M</td>\n",
              "      <td>42</td>\n",
              "      <td>3.690922e+09</td>\n",
              "      <td>Korea Republic of</td>\n",
              "      <td>3499664.0</td>\n",
              "      <td>183</td>\n",
              "      <td>67384</td>\n",
              "      <td>224</td>\n",
              "      <td>24648</td>\n",
              "    </tr>\n",
              "    <tr>\n",
              "      <th>12190</th>\n",
              "      <td>10</td>\n",
              "      <td>AIIWMFEYQQIEB</td>\n",
              "      <td>Ads</td>\n",
              "      <td>Opera</td>\n",
              "      <td>M</td>\n",
              "      <td>29</td>\n",
              "      <td>1.686759e+09</td>\n",
              "      <td>United States</td>\n",
              "      <td>6766039.0</td>\n",
              "      <td>5</td>\n",
              "      <td>78146</td>\n",
              "      <td>84</td>\n",
              "      <td>18585</td>\n",
              "    </tr>\n",
              "    <tr>\n",
              "      <th>19388</th>\n",
              "      <td>34</td>\n",
              "      <td>VUVETBUPCIWJE</td>\n",
              "      <td>Direct</td>\n",
              "      <td>Chrome</td>\n",
              "      <td>M</td>\n",
              "      <td>53</td>\n",
              "      <td>4.138429e+09</td>\n",
              "      <td>NA</td>\n",
              "      <td>5870515.0</td>\n",
              "      <td>197</td>\n",
              "      <td>81354</td>\n",
              "      <td>265</td>\n",
              "      <td>76669</td>\n",
              "    </tr>\n",
              "    <tr>\n",
              "      <th>89104</th>\n",
              "      <td>48</td>\n",
              "      <td>QCFULAJOYKFUU</td>\n",
              "      <td>Ads</td>\n",
              "      <td>Chrome</td>\n",
              "      <td>M</td>\n",
              "      <td>29</td>\n",
              "      <td>9.617337e+07</td>\n",
              "      <td>France</td>\n",
              "      <td>2145618.0</td>\n",
              "      <td>160</td>\n",
              "      <td>30920</td>\n",
              "      <td>185</td>\n",
              "      <td>16538</td>\n",
              "    </tr>\n",
              "    <tr>\n",
              "      <th>82082</th>\n",
              "      <td>44</td>\n",
              "      <td>IHRWLMIJMEEEU</td>\n",
              "      <td>Ads</td>\n",
              "      <td>FireFox</td>\n",
              "      <td>M</td>\n",
              "      <td>24</td>\n",
              "      <td>1.936025e+09</td>\n",
              "      <td>China</td>\n",
              "      <td>7079059.0</td>\n",
              "      <td>111</td>\n",
              "      <td>71897</td>\n",
              "      <td>193</td>\n",
              "      <td>66156</td>\n",
              "    </tr>\n",
              "  </tbody>\n",
              "</table>\n",
              "</div>"
            ],
            "text/plain": [
              "       purchase_value  ... purchase_seconds_of_day\n",
              "29343              12  ...                   24648\n",
              "12190              10  ...                   18585\n",
              "19388              34  ...                   76669\n",
              "89104              48  ...                   16538\n",
              "82082              44  ...                   66156\n",
              "\n",
              "[5 rows x 13 columns]"
            ]
          },
          "metadata": {
            "tags": []
          },
          "execution_count": 19
        }
      ]
    },
    {
      "cell_type": "markdown",
      "metadata": {
        "id": "HAhaHA5jn-mx"
      },
      "source": [
        "Convert categorical features with high cadinality to numericals"
      ]
    },
    {
      "cell_type": "code",
      "metadata": {
        "id": "Z8aYaDZRn72y"
      },
      "source": [
        "#converting needs to be done after split\n",
        "X_train = pd.get_dummies(X_train, columns=['source', 'browser'])#need to drop ['source', 'browser']? no, auto dropped by get_dummies \n",
        "X_train['sex'] = (X_train.sex == 'M').astype(int)\n",
        "\n",
        "# the more a device is shared, the more suspicious\n",
        "X_train_device_id_mapping = X_train.device_id.value_counts(dropna=False)\n",
        "X_train['n_dev_shared'] = X_train.device_id.map(X_train_device_id_mapping)# number of times device_id occurred in train data\n",
        "\n",
        "# the more a ip is shared, the more suspicious\n",
        "X_train_ip_address_mapping = X_train.ip_address.value_counts(dropna=False)\n",
        "X_train['n_ip_shared'] = X_train.ip_address.map(X_train_ip_address_mapping)\n",
        "\n",
        "# the less visit from a country, the more suspicious\n",
        "X_train_country_mapping = X_train.country.value_counts(dropna=False)\n",
        "X_train['n_country_shared'] = X_train.country.map(X_train_country_mapping)#lots of NAs in country column, #without dropna=False will produce nan in this col\n",
        "\n",
        "\n",
        "X_train = X_train.drop(['device_id','ip_address','country'], axis=1)\n",
        "\n",
        "\n"
      ],
      "execution_count": null,
      "outputs": []
    },
    {
      "cell_type": "code",
      "metadata": {
        "id": "PHEn5NB2oBnX"
      },
      "source": [
        "\n",
        "X_test = pd.get_dummies(X_test, columns=['source', 'browser'])\n",
        "X_test['sex'] = (X_test.sex == 'M').astype(int)\n",
        "\n",
        "# the more a device is shared, the more suspicious\n",
        "X_test['n_dev_shared'] = X_test.device_id.map(X_test.device_id.value_counts(dropna=False))\n",
        "\n",
        "# the more a ip is shared, the more suspicious\n",
        "X_test['n_ip_shared'] = X_test.ip_address.map(X_test.ip_address.value_counts(dropna=False))\n",
        "\n",
        "# the less visit from a country, the more suspicious\n",
        "X_test['n_country_shared'] = X_test.country.map(X_test.country.value_counts(dropna=False))\n",
        "\n",
        "X_test = X_test.drop(['device_id','ip_address','country'], axis=1)\n",
        "\n",
        "# if the levels/values of the column in train and test data are pretty much the same(lots of overlap), e.g. country, \n",
        "# then we should apply the above 3 X_train_mappings (generated from X_train) on X_test(like below), \n",
        "# rather than using the new mapping generated from X_test\n",
        "\n",
        "# http://docs.h2o.ai/h2o/latest-stable/h2o-docs/data-munging/target-encoding.html\n",
        "# the more a device is shared, the more suspicious\n",
        "# X_test['n_dev_shared'] = X_test.device_id.map(X_train_device_id_mapping) # if apply train mapping, most of the levels in test does not occur in train, so most are null after converting\n",
        "\n",
        "# the more a ip is shared, the more suspicious\n",
        "# X_test['n_ip_shared'] = X_test.ip_address.map(X_train_ip_address_mapping)\n",
        "\n",
        "# the less visit from a country, the more suspicious\n",
        "# X_test['n_country_shared'] = X_test.country.map(X_train_country_mapping)\n",
        "\n",
        "#but here device_id, ip_address has few overlap between train and test, if we apply the above \n",
        "# 3 X_train_mappings (generated from X_train) on X_test, then most of the X_test will be NaN\n",
        "\n",
        "#target encoding\n"
      ],
      "execution_count": null,
      "outputs": []
    },
    {
      "cell_type": "code",
      "metadata": {
        "id": "IOmaHr8zoFIB",
        "outputId": "f284be14-c58b-40d9-c12b-a9cb6e0ebaef",
        "colab": {
          "base_uri": "https://localhost:8080/",
          "height": 224
        }
      },
      "source": [
        "X_train.head()"
      ],
      "execution_count": null,
      "outputs": [
        {
          "output_type": "execute_result",
          "data": {
            "text/html": [
              "<div>\n",
              "<style scoped>\n",
              "    .dataframe tbody tr th:only-of-type {\n",
              "        vertical-align: middle;\n",
              "    }\n",
              "\n",
              "    .dataframe tbody tr th {\n",
              "        vertical-align: top;\n",
              "    }\n",
              "\n",
              "    .dataframe thead th {\n",
              "        text-align: right;\n",
              "    }\n",
              "</style>\n",
              "<table border=\"1\" class=\"dataframe\">\n",
              "  <thead>\n",
              "    <tr style=\"text-align: right;\">\n",
              "      <th></th>\n",
              "      <th>purchase_value</th>\n",
              "      <th>sex</th>\n",
              "      <th>age</th>\n",
              "      <th>interval_after_signup</th>\n",
              "      <th>signup_days_of_year</th>\n",
              "      <th>signup_seconds_of_day</th>\n",
              "      <th>purchase_days_of_year</th>\n",
              "      <th>purchase_seconds_of_day</th>\n",
              "      <th>source_Ads</th>\n",
              "      <th>source_Direct</th>\n",
              "      <th>source_SEO</th>\n",
              "      <th>browser_Chrome</th>\n",
              "      <th>browser_FireFox</th>\n",
              "      <th>browser_IE</th>\n",
              "      <th>browser_Opera</th>\n",
              "      <th>browser_Safari</th>\n",
              "      <th>n_dev_shared</th>\n",
              "      <th>n_ip_shared</th>\n",
              "      <th>n_country_shared</th>\n",
              "    </tr>\n",
              "  </thead>\n",
              "  <tbody>\n",
              "    <tr>\n",
              "      <th>29343</th>\n",
              "      <td>12</td>\n",
              "      <td>1</td>\n",
              "      <td>42</td>\n",
              "      <td>3499664.0</td>\n",
              "      <td>183</td>\n",
              "      <td>67384</td>\n",
              "      <td>224</td>\n",
              "      <td>24648</td>\n",
              "      <td>1</td>\n",
              "      <td>0</td>\n",
              "      <td>0</td>\n",
              "      <td>1</td>\n",
              "      <td>0</td>\n",
              "      <td>0</td>\n",
              "      <td>0</td>\n",
              "      <td>0</td>\n",
              "      <td>1</td>\n",
              "      <td>1</td>\n",
              "      <td>3075</td>\n",
              "    </tr>\n",
              "    <tr>\n",
              "      <th>12190</th>\n",
              "      <td>10</td>\n",
              "      <td>1</td>\n",
              "      <td>29</td>\n",
              "      <td>6766039.0</td>\n",
              "      <td>5</td>\n",
              "      <td>78146</td>\n",
              "      <td>84</td>\n",
              "      <td>18585</td>\n",
              "      <td>1</td>\n",
              "      <td>0</td>\n",
              "      <td>0</td>\n",
              "      <td>0</td>\n",
              "      <td>0</td>\n",
              "      <td>0</td>\n",
              "      <td>1</td>\n",
              "      <td>0</td>\n",
              "      <td>1</td>\n",
              "      <td>1</td>\n",
              "      <td>42348</td>\n",
              "    </tr>\n",
              "    <tr>\n",
              "      <th>19388</th>\n",
              "      <td>34</td>\n",
              "      <td>1</td>\n",
              "      <td>53</td>\n",
              "      <td>5870515.0</td>\n",
              "      <td>197</td>\n",
              "      <td>81354</td>\n",
              "      <td>265</td>\n",
              "      <td>76669</td>\n",
              "      <td>0</td>\n",
              "      <td>1</td>\n",
              "      <td>0</td>\n",
              "      <td>1</td>\n",
              "      <td>0</td>\n",
              "      <td>0</td>\n",
              "      <td>0</td>\n",
              "      <td>0</td>\n",
              "      <td>1</td>\n",
              "      <td>1</td>\n",
              "      <td>16275</td>\n",
              "    </tr>\n",
              "    <tr>\n",
              "      <th>89104</th>\n",
              "      <td>48</td>\n",
              "      <td>1</td>\n",
              "      <td>29</td>\n",
              "      <td>2145618.0</td>\n",
              "      <td>160</td>\n",
              "      <td>30920</td>\n",
              "      <td>185</td>\n",
              "      <td>16538</td>\n",
              "      <td>1</td>\n",
              "      <td>0</td>\n",
              "      <td>0</td>\n",
              "      <td>1</td>\n",
              "      <td>0</td>\n",
              "      <td>0</td>\n",
              "      <td>0</td>\n",
              "      <td>0</td>\n",
              "      <td>1</td>\n",
              "      <td>1</td>\n",
              "      <td>2322</td>\n",
              "    </tr>\n",
              "    <tr>\n",
              "      <th>82082</th>\n",
              "      <td>44</td>\n",
              "      <td>1</td>\n",
              "      <td>24</td>\n",
              "      <td>7079059.0</td>\n",
              "      <td>111</td>\n",
              "      <td>71897</td>\n",
              "      <td>193</td>\n",
              "      <td>66156</td>\n",
              "      <td>1</td>\n",
              "      <td>0</td>\n",
              "      <td>0</td>\n",
              "      <td>0</td>\n",
              "      <td>1</td>\n",
              "      <td>0</td>\n",
              "      <td>0</td>\n",
              "      <td>0</td>\n",
              "      <td>1</td>\n",
              "      <td>1</td>\n",
              "      <td>8876</td>\n",
              "    </tr>\n",
              "  </tbody>\n",
              "</table>\n",
              "</div>"
            ],
            "text/plain": [
              "       purchase_value  sex  age  ...  n_dev_shared  n_ip_shared  n_country_shared\n",
              "29343              12    1   42  ...             1            1              3075\n",
              "12190              10    1   29  ...             1            1             42348\n",
              "19388              34    1   53  ...             1            1             16275\n",
              "89104              48    1   29  ...             1            1              2322\n",
              "82082              44    1   24  ...             1            1              8876\n",
              "\n",
              "[5 rows x 19 columns]"
            ]
          },
          "metadata": {
            "tags": []
          },
          "execution_count": 22
        }
      ]
    },
    {
      "cell_type": "code",
      "metadata": {
        "id": "cOTWLlZaqOP0"
      },
      "source": [
        "# # normalize (min-max) to [0,1], standardize(StandardScaler) to normal, mu=0,var = 1 can < 0, so we do normalize here\n",
        "\n",
        "# needs to be brought to the same scale for models like LR with regularization(that are not tree based)\n",
        "\n",
        "#Compute the train minimum and maximum to be used for later scaling:\n",
        "scaler = preprocessing.MinMaxScaler().fit(X_train[['n_dev_shared', 'n_ip_shared', 'n_country_shared']]) \n",
        "#print(scaler.data_max_)\n",
        "\n",
        "#transform the training data and use them for the model training\n",
        "X_train[['n_dev_shared', 'n_ip_shared', 'n_country_shared']] = scaler.transform(X_train[['n_dev_shared', 'n_ip_shared', 'n_country_shared']])\n",
        "\n",
        "#before the prediction of the test data, apply the same scaler obtained from above on X_test, not fitting a brandnew scaler on test\n",
        "X_test[['n_dev_shared', 'n_ip_shared', 'n_country_shared']] = scaler.transform(X_test[['n_dev_shared', 'n_ip_shared', 'n_country_shared']])\n",
        "\n"
      ],
      "execution_count": null,
      "outputs": []
    },
    {
      "cell_type": "markdown",
      "metadata": {
        "id": "jTH4UOhvpLZf"
      },
      "source": [
        ""
      ]
    },
    {
      "cell_type": "code",
      "metadata": {
        "id": "3ZiZjqSwql4G",
        "outputId": "621db953-ff0b-41a5-8d96-c9d2dc861b03",
        "colab": {
          "base_uri": "https://localhost:8080/",
          "height": 136
        }
      },
      "source": [
        "X_train.n_dev_shared.value_counts(dropna=False)"
      ],
      "execution_count": null,
      "outputs": [
        {
          "output_type": "execute_result",
          "data": {
            "text/plain": [
              "0.0    105427\n",
              "0.2      4774\n",
              "0.4       324\n",
              "0.6       124\n",
              "0.8        45\n",
              "1.0         6\n",
              "Name: n_dev_shared, dtype: int64"
            ]
          },
          "metadata": {
            "tags": []
          },
          "execution_count": 24
        }
      ]
    },
    {
      "cell_type": "code",
      "metadata": {
        "id": "7M70uIMOqomS",
        "outputId": "0fe3ec0f-6011-4493-ad16-dba807555a16",
        "colab": {
          "base_uri": "https://localhost:8080/",
          "height": 85
        }
      },
      "source": [
        "X_test.n_dev_shared.value_counts(dropna=False)"
      ],
      "execution_count": null,
      "outputs": [
        {
          "output_type": "execute_result",
          "data": {
            "text/plain": [
              "0.0    27330\n",
              "0.2      334\n",
              "0.4       12\n",
              "Name: n_dev_shared, dtype: int64"
            ]
          },
          "metadata": {
            "tags": []
          },
          "execution_count": 25
        }
      ]
    },
    {
      "cell_type": "markdown",
      "metadata": {
        "id": "x9W2GbVgq2ei"
      },
      "source": [
        "Simple LogisticRegression model"
      ]
    },
    {
      "cell_type": "code",
      "metadata": {
        "id": "OkdEYm02qrU0"
      },
      "source": [
        "# instantiate the model (using the default parameters)\n",
        "logreg = LogisticRegression()\n",
        "\n",
        "# fit the model with data\n",
        "logreg.fit(X_train,y_train)\n",
        "\n",
        "# predict on test\n",
        "y_pred=logreg.predict(X_test)"
      ],
      "execution_count": null,
      "outputs": []
    },
    {
      "cell_type": "code",
      "metadata": {
        "id": "mMrF7AsYqvFr",
        "outputId": "e2ddb2ea-1a09-4cdc-9c46-67a80ef4af4e",
        "colab": {
          "base_uri": "https://localhost:8080/",
          "height": 68
        }
      },
      "source": [
        "cm = metrics.confusion_matrix(y_test, y_pred)\n",
        "cmDF = pd.DataFrame(cm, columns=['pred_0', 'pred_1'], index=['true_0', 'true_1'])\n",
        "print(cmDF)"
      ],
      "execution_count": null,
      "outputs": [
        {
          "output_type": "stream",
          "text": [
            "        pred_0  pred_1\n",
            "true_0   27389       0\n",
            "true_1     287       0\n"
          ],
          "name": "stdout"
        }
      ]
    },
    {
      "cell_type": "markdown",
      "metadata": {
        "id": "n6HxtgxDq6Dw"
      },
      "source": [
        "Simple RF model"
      ]
    },
    {
      "cell_type": "code",
      "metadata": {
        "id": "80KetNR-qxek",
        "outputId": "917bfe69-e97c-43ae-bd19-b00c33e2f2a5",
        "colab": {
          "base_uri": "https://localhost:8080/",
          "height": 170
        }
      },
      "source": [
        "classifier_RF = RandomForestClassifier(random_state=0)\n",
        "\n",
        "classifier_RF.fit(X_train, y_train)\n",
        "\n",
        "# predict class labels 0/1 for the test set\n",
        "predicted = classifier_RF.predict(X_test)\n",
        "\n",
        "# generate class probabilities\n",
        "probs = classifier_RF.predict_proba(X_test)\n",
        "\n",
        "# generate evaluation metrics\n",
        "print(\"%s: %r\" % (\"accuracy_score is: \", accuracy_score(y_test, predicted)))\n",
        "print(\"%s: %r\" % (\"roc_auc_score is: \", roc_auc_score(y_test, probs[:, 1])))\n",
        "print(\"%s: %r\" % (\"f1_score is: \", f1_score(y_test, predicted )))#string to int\n",
        "\n",
        "print (\"confusion_matrix is: \")\n",
        "cm = confusion_matrix(y_test, predicted)\n",
        "cmDF = pd.DataFrame(cm, columns=['pred_0', 'pred_1'], index=['true_0', 'true_1'])\n",
        "print(cmDF)\n",
        "print('recall =',float(cm[1,1])/(cm[1,0]+cm[1,1]))\n",
        "print('precision =', float(cm[1,1])/(cm[1,1] + cm[0,1]))#1.0"
      ],
      "execution_count": null,
      "outputs": [
        {
          "output_type": "stream",
          "text": [
            "accuracy_score is: : 0.9948692007515537\n",
            "roc_auc_score is: : 0.7801672204169557\n",
            "f1_score is: : 0.6712962962962962\n",
            "confusion_matrix is: \n",
            "        pred_0  pred_1\n",
            "true_0   27389       0\n",
            "true_1     142     145\n",
            "recall = 0.5052264808362369\n",
            "precision = 1.0\n"
          ],
          "name": "stdout"
        }
      ]
    },
    {
      "cell_type": "markdown",
      "metadata": {
        "id": "0iDA5X4hrIYB"
      },
      "source": [
        "SMOTE sampling"
      ]
    },
    {
      "cell_type": "code",
      "metadata": {
        "id": "caUbRizDq9Im",
        "outputId": "44cbe3a3-e2a9-48d7-be02-00b6aae7462a",
        "colab": {
          "base_uri": "https://localhost:8080/",
          "height": 51
        }
      },
      "source": [
        "#Wrong way to sampling: smote before split train/test, then test data does not reflect true distribution in reality, \n",
        "#and “blend” information from the test set into the training of the model. overfit! think about the case of simple \n",
        "#oversampling (where I just duplicate observations). If I upsample a dataset before splitting it into a train and \n",
        "#validation set, I could end up with the same observation in both datasets\n",
        "\n",
        "#https://imbalanced-learn.org/en/stable/install.html\n",
        "\n",
        "# Install\n",
        "# imbalanced-learn is currently available on the PyPi’s reporitories and you can install it via pip:\n",
        "\n",
        "# pip install -U imbalanced-learn\n",
        "\n",
        "#oversampling on only the training data, the right way! \n",
        "#sampling_strategy = number of samples in the majority class over the number of samples in the minority class after resampling\n",
        "\n",
        "smote = SMOTE(random_state=12)\n",
        "x_train_sm, y_train_sm = smote.fit_sample(X_train, y_train)\n",
        "\n",
        "unique, counts = np.unique(y_train_sm, return_counts=True)\n",
        "\n",
        "print(np.asarray((unique, counts)).T)"
      ],
      "execution_count": null,
      "outputs": [
        {
          "output_type": "stream",
          "text": [
            "[[     0 109572]\n",
            " [     1 109572]]\n"
          ],
          "name": "stdout"
        }
      ]
    },
    {
      "cell_type": "code",
      "metadata": {
        "id": "rbCwzZYSrNGn",
        "outputId": "6c7882a4-2c66-4443-87f7-e8d5245893a6",
        "colab": {
          "base_uri": "https://localhost:8080/",
          "height": 170
        }
      },
      "source": [
        "#RF on smoted training data\n",
        "classifier_RF_sm = RandomForestClassifier(random_state=0)\n",
        "\n",
        "classifier_RF_sm.fit(x_train_sm, y_train_sm)\n",
        "\n",
        "# predict class labels for the test set\n",
        "predicted_sm = classifier_RF_sm.predict(X_test)\n",
        "\n",
        "# generate class probabilities\n",
        "probs_sm = classifier_RF_sm.predict_proba(X_test)\n",
        "\n",
        "\n",
        "# generate evaluation metrics\n",
        "print(\"%s: %r\" % (\"accuracy_score_sm is: \", accuracy_score(y_test, predicted_sm)))\n",
        "print(\"%s: %r\" % (\"roc_auc_score_sm is: \", roc_auc_score(y_test, probs_sm[:, 1])))\n",
        "print(\"%s: %r\" % (\"f1_score_sm is: \", f1_score(y_test, predicted_sm )))#string to int\n",
        "\n",
        "print (\"confusion_matrix_sm is: \")\n",
        "cm_sm = confusion_matrix(y_test, predicted_sm)\n",
        "cmDF = pd.DataFrame(cm_sm, columns=['pred_0', 'pred_1'], index=['true_0', 'true_1'])\n",
        "print(cmDF)\n",
        "print('recall or sens_sm =',float(cm_sm[1,1])/(cm_sm[1,0]+cm_sm[1,1]))\n",
        "print('precision_sm =', float(cm_sm[1,1])/(cm_sm[1,1] + cm_sm[0,1]))\n",
        "\n",
        "#different AUC??"
      ],
      "execution_count": null,
      "outputs": [
        {
          "output_type": "stream",
          "text": [
            "accuracy_score_sm is: : 0.9948330683624801\n",
            "roc_auc_score_sm is: : 0.7676158935089662\n",
            "f1_score_sm is: : 0.6697459584295612\n",
            "confusion_matrix_sm is: \n",
            "        pred_0  pred_1\n",
            "true_0   27388       1\n",
            "true_1     142     145\n",
            "recall or sens_sm = 0.5052264808362369\n",
            "precision_sm = 0.9931506849315068\n"
          ],
          "name": "stdout"
        }
      ]
    },
    {
      "cell_type": "markdown",
      "metadata": {
        "id": "ldszZ1T-rhOx"
      },
      "source": [
        "# Parameter tuning by GridSearchCV"
      ]
    },
    {
      "cell_type": "markdown",
      "metadata": {
        "id": "F1bV_jCkrkWF"
      },
      "source": [
        "Eval metrics for GridSearchCV over all fits upon combination of parameters and cv"
      ]
    },
    {
      "cell_type": "code",
      "metadata": {
        "id": "sFfAZlQDrQAb"
      },
      "source": [
        "# Eval metrics to be calculated for each combination of parameters and cv, they are all calculated(by scoring), but not necessarily used to pick the optimal(by refit)\n",
        "scorers = {\n",
        "    'precision_score': make_scorer(precision_score),\n",
        "    'recall_score': make_scorer(recall_score),\n",
        "    'f1_score': make_scorer(f1_score, pos_label=1)\n",
        "    \n",
        "}"
      ],
      "execution_count": null,
      "outputs": []
    },
    {
      "cell_type": "code",
      "metadata": {
        "id": "oZ63ZEAjqyoB"
      },
      "source": [
        ""
      ],
      "execution_count": null,
      "outputs": []
    },
    {
      "cell_type": "code",
      "metadata": {
        "id": "RdgTcDHirmpK"
      },
      "source": [
        "def grid_search_wrapper(model, parameters, refit_score='f1_score'):\n",
        "    \"\"\"\n",
        "    fits a GridSearchCV classifier using refit_score for optimization(refit on the best model according to refit_score)\n",
        "    prints classifier performance metrics\n",
        "    \"\"\"\n",
        "\n",
        "    grid_search = GridSearchCV(model, parameters, scoring=scorers, refit=refit_score,\n",
        "                           cv=3, return_train_score=True, n_jobs=-1)\n",
        "    grid_search.fit(X_train, y_train)\n",
        "\n",
        "    # make the predictions\n",
        "    y_pred = grid_search.predict(X_test)\n",
        "    y_prob = grid_search.predict_proba(X_test)[:, 1]\n",
        "    \n",
        "    print('Best params for {}'.format(refit_score))\n",
        "    print(grid_search.best_params_)\n",
        "\n",
        "    # confusion matrix on the test data.\n",
        "    print('\\nConfusion matrix of Random Forest optimized for {} on the test data:'.format(refit_score))\n",
        "    cm = confusion_matrix(y_test, y_pred)\n",
        "    cmDF = pd.DataFrame(cm, columns=['pred_0', 'pred_1'], index=['true_0', 'true_1'])\n",
        "    print(cmDF)\n",
        "    \n",
        "    print(\"\\t%s: %r\" % (\"roc_auc_score is: \", roc_auc_score(y_test, y_prob)))\n",
        "    print(\"\\t%s: %r\" % (\"f1_score is: \", f1_score(y_test, y_pred)))#string to int\n",
        "\n",
        "    print('recall = ', float(cm[1,1]) / (cm[1,0] + cm[1,1]))\n",
        "    print('precision = ', float(cm[1,1]) / (cm[1, 1] + cm[0,1]))\n",
        "\n",
        "    return grid_search\n",
        "\n"
      ],
      "execution_count": null,
      "outputs": []
    },
    {
      "cell_type": "markdown",
      "metadata": {
        "id": "hsRYsbmWrxRX"
      },
      "source": [
        "Optimizing on f1_score on LR"
      ]
    },
    {
      "cell_type": "code",
      "metadata": {
        "id": "auoYm_uXrpK8",
        "outputId": "550fdc49-3dd8-47d2-c69d-ea73040d24ce",
        "colab": {
          "base_uri": "https://localhost:8080/",
          "height": 221
        }
      },
      "source": [
        "# C: inverse of regularization strength, smaller values specify stronger regularization\n",
        "LRGrid = {\"C\" : np.logspace(-2,2,5), \"penalty\":[\"l1\",\"l2\"]}# l1 lasso l2 ridge\n",
        "#param_grid = {'C': [0.01, 0.1, 1, 10, 100], 'penalty': ['l1', 'l2']}\n",
        "logRegModel = LogisticRegression(random_state=0)\n",
        "\n",
        "grid_search_LR_f1 = grid_search_wrapper(logRegModel, LRGrid, refit_score='f1_score')"
      ],
      "execution_count": null,
      "outputs": [
        {
          "output_type": "stream",
          "text": [
            "Best params for f1_score\n",
            "{'C': 0.01, 'penalty': 'l2'}\n",
            "\n",
            "Confusion matrix of Random Forest optimized for f1_score on the test data:\n",
            "        pred_0  pred_1\n",
            "true_0   27389       0\n",
            "true_1     287       0\n",
            "\troc_auc_score is: : 0.749596438866388\n",
            "\tf1_score is: : 0.0\n",
            "recall =  0.0\n",
            "precision =  nan\n"
          ],
          "name": "stdout"
        },
        {
          "output_type": "stream",
          "text": [
            "/usr/local/lib/python3.6/dist-packages/ipykernel_launcher.py:28: RuntimeWarning: invalid value encountered in true_divide\n"
          ],
          "name": "stderr"
        }
      ]
    },
    {
      "cell_type": "markdown",
      "metadata": {
        "id": "8nXA4BYJr238"
      },
      "source": [
        "Optimizing on f1_score on RF"
      ]
    },
    {
      "cell_type": "code",
      "metadata": {
        "id": "WYdxvC56r0i4"
      },
      "source": [
        "parameters = {        \n",
        "'max_depth': [None, 5, 15],\n",
        "'n_estimators' :  [10,150],\n",
        "'class_weight' : [{0: 1, 1: w} for w in [0.2, 1, 100]]\n",
        "}\n",
        "\n",
        "clf = RandomForestClassifier(random_state=0)"
      ],
      "execution_count": null,
      "outputs": []
    },
    {
      "cell_type": "code",
      "metadata": {
        "id": "Ts64O7eWr5g2",
        "outputId": "b1fd8c9c-3465-4046-e6bc-2b8fc0cb9c32",
        "colab": {
          "base_uri": "https://localhost:8080/",
          "height": 204
        }
      },
      "source": [
        "grid_search_rf_f1 = grid_search_wrapper(clf, parameters, refit_score='f1_score')"
      ],
      "execution_count": null,
      "outputs": [
        {
          "output_type": "stream",
          "text": [
            "Best params for f1_score\n",
            "{'class_weight': {0: 1, 1: 0.2}, 'max_depth': None, 'n_estimators': 10}\n",
            "\n",
            "Confusion matrix of Random Forest optimized for f1_score on the test data:\n",
            "        pred_0  pred_1\n",
            "true_0   27389       0\n",
            "true_1     142     145\n",
            "\troc_auc_score is: : 0.7504989731756042\n",
            "\tf1_score is: : 0.6712962962962962\n",
            "recall =  0.5052264808362369\n",
            "precision =  1.0\n"
          ],
          "name": "stdout"
        }
      ]
    },
    {
      "cell_type": "code",
      "metadata": {
        "id": "xjYCYlbmr8BV",
        "outputId": "ad80d3c8-afd1-41b0-9411-30de6c5afd9e",
        "colab": {
          "base_uri": "https://localhost:8080/",
          "height": 51
        }
      },
      "source": [
        "best_rf_model_f1 = grid_search_rf_f1.best_estimator_\n",
        "best_rf_model_f1"
      ],
      "execution_count": null,
      "outputs": [
        {
          "output_type": "execute_result",
          "data": {
            "text/plain": [
              "RandomForestClassifier(class_weight={0: 1, 1: 0.2}, n_estimators=10,\n",
              "                       random_state=0)"
            ]
          },
          "metadata": {
            "tags": []
          },
          "execution_count": 36
        }
      ]
    },
    {
      "cell_type": "code",
      "metadata": {
        "id": "K6NOTqRHr-oA",
        "outputId": "75a8c3d3-e443-43c5-f5b0-5a82237b9695",
        "colab": {
          "base_uri": "https://localhost:8080/",
          "height": 204
        }
      },
      "source": [
        "results_f1 = pd.DataFrame(grid_search_rf_f1.cv_results_)\n",
        "results_sortf1 = results_f1.sort_values(by='mean_test_f1_score', ascending=False)\n",
        "results_sortf1[['mean_test_precision_score', 'mean_test_recall_score', 'mean_test_f1_score', 'mean_train_precision_score', 'mean_train_recall_score', 'mean_train_f1_score','param_max_depth', 'param_class_weight', 'param_n_estimators']].round(3).head()\n",
        "\n",
        "\n"
      ],
      "execution_count": null,
      "outputs": [
        {
          "output_type": "execute_result",
          "data": {
            "text/html": [
              "<div>\n",
              "<style scoped>\n",
              "    .dataframe tbody tr th:only-of-type {\n",
              "        vertical-align: middle;\n",
              "    }\n",
              "\n",
              "    .dataframe tbody tr th {\n",
              "        vertical-align: top;\n",
              "    }\n",
              "\n",
              "    .dataframe thead th {\n",
              "        text-align: right;\n",
              "    }\n",
              "</style>\n",
              "<table border=\"1\" class=\"dataframe\">\n",
              "  <thead>\n",
              "    <tr style=\"text-align: right;\">\n",
              "      <th></th>\n",
              "      <th>mean_test_precision_score</th>\n",
              "      <th>mean_test_recall_score</th>\n",
              "      <th>mean_test_f1_score</th>\n",
              "      <th>mean_train_precision_score</th>\n",
              "      <th>mean_train_recall_score</th>\n",
              "      <th>mean_train_f1_score</th>\n",
              "      <th>param_max_depth</th>\n",
              "      <th>param_class_weight</th>\n",
              "      <th>param_n_estimators</th>\n",
              "    </tr>\n",
              "  </thead>\n",
              "  <tbody>\n",
              "    <tr>\n",
              "      <th>0</th>\n",
              "      <td>1.0</td>\n",
              "      <td>0.527</td>\n",
              "      <td>0.69</td>\n",
              "      <td>1.0</td>\n",
              "      <td>0.857</td>\n",
              "      <td>0.923</td>\n",
              "      <td>None</td>\n",
              "      <td>{0: 1, 1: 0.2}</td>\n",
              "      <td>10</td>\n",
              "    </tr>\n",
              "    <tr>\n",
              "      <th>7</th>\n",
              "      <td>1.0</td>\n",
              "      <td>0.527</td>\n",
              "      <td>0.69</td>\n",
              "      <td>1.0</td>\n",
              "      <td>1.000</td>\n",
              "      <td>1.000</td>\n",
              "      <td>None</td>\n",
              "      <td>{0: 1, 1: 1}</td>\n",
              "      <td>150</td>\n",
              "    </tr>\n",
              "    <tr>\n",
              "      <th>13</th>\n",
              "      <td>1.0</td>\n",
              "      <td>0.527</td>\n",
              "      <td>0.69</td>\n",
              "      <td>1.0</td>\n",
              "      <td>1.000</td>\n",
              "      <td>1.000</td>\n",
              "      <td>None</td>\n",
              "      <td>{0: 1, 1: 100}</td>\n",
              "      <td>150</td>\n",
              "    </tr>\n",
              "    <tr>\n",
              "      <th>11</th>\n",
              "      <td>1.0</td>\n",
              "      <td>0.527</td>\n",
              "      <td>0.69</td>\n",
              "      <td>1.0</td>\n",
              "      <td>0.584</td>\n",
              "      <td>0.737</td>\n",
              "      <td>15</td>\n",
              "      <td>{0: 1, 1: 1}</td>\n",
              "      <td>150</td>\n",
              "    </tr>\n",
              "    <tr>\n",
              "      <th>1</th>\n",
              "      <td>1.0</td>\n",
              "      <td>0.527</td>\n",
              "      <td>0.69</td>\n",
              "      <td>1.0</td>\n",
              "      <td>1.000</td>\n",
              "      <td>1.000</td>\n",
              "      <td>None</td>\n",
              "      <td>{0: 1, 1: 0.2}</td>\n",
              "      <td>150</td>\n",
              "    </tr>\n",
              "  </tbody>\n",
              "</table>\n",
              "</div>"
            ],
            "text/plain": [
              "    mean_test_precision_score  ...  param_n_estimators\n",
              "0                         1.0  ...                  10\n",
              "7                         1.0  ...                 150\n",
              "13                        1.0  ...                 150\n",
              "11                        1.0  ...                 150\n",
              "1                         1.0  ...                 150\n",
              "\n",
              "[5 rows x 9 columns]"
            ]
          },
          "metadata": {
            "tags": []
          },
          "execution_count": 37
        }
      ]
    },
    {
      "cell_type": "code",
      "metadata": {
        "id": "ccCAMjbrsBK1",
        "outputId": "aa801999-49f6-4d3e-8dd1-5b6cb82abd53",
        "colab": {
          "base_uri": "https://localhost:8080/",
          "height": 638
        }
      },
      "source": [
        "#Var Importance, make a guess?\n",
        "pd.DataFrame(best_rf_model_f1.feature_importances_, index = X_train.columns, columns=['importance']).sort_values('importance', ascending=False)\n",
        "\n",
        "\n"
      ],
      "execution_count": null,
      "outputs": [
        {
          "output_type": "execute_result",
          "data": {
            "text/html": [
              "<div>\n",
              "<style scoped>\n",
              "    .dataframe tbody tr th:only-of-type {\n",
              "        vertical-align: middle;\n",
              "    }\n",
              "\n",
              "    .dataframe tbody tr th {\n",
              "        vertical-align: top;\n",
              "    }\n",
              "\n",
              "    .dataframe thead th {\n",
              "        text-align: right;\n",
              "    }\n",
              "</style>\n",
              "<table border=\"1\" class=\"dataframe\">\n",
              "  <thead>\n",
              "    <tr style=\"text-align: right;\">\n",
              "      <th></th>\n",
              "      <th>importance</th>\n",
              "    </tr>\n",
              "  </thead>\n",
              "  <tbody>\n",
              "    <tr>\n",
              "      <th>interval_after_signup</th>\n",
              "      <td>0.390626</td>\n",
              "    </tr>\n",
              "    <tr>\n",
              "      <th>purchase_days_of_year</th>\n",
              "      <td>0.140591</td>\n",
              "    </tr>\n",
              "    <tr>\n",
              "      <th>purchase_seconds_of_day</th>\n",
              "      <td>0.082478</td>\n",
              "    </tr>\n",
              "    <tr>\n",
              "      <th>signup_seconds_of_day</th>\n",
              "      <td>0.081464</td>\n",
              "    </tr>\n",
              "    <tr>\n",
              "      <th>n_dev_shared</th>\n",
              "      <td>0.066566</td>\n",
              "    </tr>\n",
              "    <tr>\n",
              "      <th>signup_days_of_year</th>\n",
              "      <td>0.056492</td>\n",
              "    </tr>\n",
              "    <tr>\n",
              "      <th>purchase_value</th>\n",
              "      <td>0.043198</td>\n",
              "    </tr>\n",
              "    <tr>\n",
              "      <th>age</th>\n",
              "      <td>0.037329</td>\n",
              "    </tr>\n",
              "    <tr>\n",
              "      <th>n_ip_shared</th>\n",
              "      <td>0.034087</td>\n",
              "    </tr>\n",
              "    <tr>\n",
              "      <th>n_country_shared</th>\n",
              "      <td>0.025194</td>\n",
              "    </tr>\n",
              "    <tr>\n",
              "      <th>sex</th>\n",
              "      <td>0.008208</td>\n",
              "    </tr>\n",
              "    <tr>\n",
              "      <th>source_SEO</th>\n",
              "      <td>0.006156</td>\n",
              "    </tr>\n",
              "    <tr>\n",
              "      <th>source_Ads</th>\n",
              "      <td>0.005608</td>\n",
              "    </tr>\n",
              "    <tr>\n",
              "      <th>browser_Chrome</th>\n",
              "      <td>0.005320</td>\n",
              "    </tr>\n",
              "    <tr>\n",
              "      <th>browser_FireFox</th>\n",
              "      <td>0.005251</td>\n",
              "    </tr>\n",
              "    <tr>\n",
              "      <th>browser_Safari</th>\n",
              "      <td>0.004016</td>\n",
              "    </tr>\n",
              "    <tr>\n",
              "      <th>source_Direct</th>\n",
              "      <td>0.003891</td>\n",
              "    </tr>\n",
              "    <tr>\n",
              "      <th>browser_IE</th>\n",
              "      <td>0.002709</td>\n",
              "    </tr>\n",
              "    <tr>\n",
              "      <th>browser_Opera</th>\n",
              "      <td>0.000815</td>\n",
              "    </tr>\n",
              "  </tbody>\n",
              "</table>\n",
              "</div>"
            ],
            "text/plain": [
              "                         importance\n",
              "interval_after_signup      0.390626\n",
              "purchase_days_of_year      0.140591\n",
              "purchase_seconds_of_day    0.082478\n",
              "signup_seconds_of_day      0.081464\n",
              "n_dev_shared               0.066566\n",
              "signup_days_of_year        0.056492\n",
              "purchase_value             0.043198\n",
              "age                        0.037329\n",
              "n_ip_shared                0.034087\n",
              "n_country_shared           0.025194\n",
              "sex                        0.008208\n",
              "source_SEO                 0.006156\n",
              "source_Ads                 0.005608\n",
              "browser_Chrome             0.005320\n",
              "browser_FireFox            0.005251\n",
              "browser_Safari             0.004016\n",
              "source_Direct              0.003891\n",
              "browser_IE                 0.002709\n",
              "browser_Opera              0.000815"
            ]
          },
          "metadata": {
            "tags": []
          },
          "execution_count": 38
        }
      ]
    },
    {
      "cell_type": "markdown",
      "metadata": {
        "id": "VMBjORQlsGGZ"
      },
      "source": [
        "Optimizing recall_score on RF"
      ]
    },
    {
      "cell_type": "code",
      "metadata": {
        "id": "9A7_0wtfsD8d",
        "outputId": "7bb713b4-f4eb-447b-8cea-a588bbb9c97c",
        "colab": {
          "base_uri": "https://localhost:8080/",
          "height": 204
        }
      },
      "source": [
        "grid_search_rf_recall = grid_search_wrapper(clf, parameters, refit_score='recall_score')"
      ],
      "execution_count": null,
      "outputs": [
        {
          "output_type": "stream",
          "text": [
            "Best params for recall_score\n",
            "{'class_weight': {0: 1, 1: 100}, 'max_depth': 5, 'n_estimators': 150}\n",
            "\n",
            "Confusion matrix of Random Forest optimized for recall_score on the test data:\n",
            "        pred_0  pred_1\n",
            "true_0   27146     243\n",
            "true_1     132     155\n",
            "\troc_auc_score is: : 0.7904661234456265\n",
            "\tf1_score is: : 0.4525547445255475\n",
            "recall =  0.5400696864111498\n",
            "precision =  0.38944723618090454\n"
          ],
          "name": "stdout"
        }
      ]
    },
    {
      "cell_type": "code",
      "metadata": {
        "id": "IzvlVI_VsIpb",
        "outputId": "79352bb4-c7c7-4f3a-f38e-6218e75a4006",
        "colab": {
          "base_uri": "https://localhost:8080/",
          "height": 51
        }
      },
      "source": [
        "best_RF_model_recall = grid_search_rf_recall.best_estimator_\n",
        "best_RF_model_recall"
      ],
      "execution_count": null,
      "outputs": [
        {
          "output_type": "execute_result",
          "data": {
            "text/plain": [
              "RandomForestClassifier(class_weight={0: 1, 1: 100}, max_depth=5,\n",
              "                       n_estimators=150, random_state=0)"
            ]
          },
          "metadata": {
            "tags": []
          },
          "execution_count": 40
        }
      ]
    },
    {
      "cell_type": "code",
      "metadata": {
        "id": "Y7ncW6mZsKx_",
        "outputId": "61ad5622-1d9e-4394-f015-606ba5d5fecc",
        "colab": {
          "base_uri": "https://localhost:8080/",
          "height": 204
        }
      },
      "source": [
        "# predict class labels for the test set\n",
        "predictedBest_recall = best_RF_model_recall.predict(X_test)\n",
        "\n",
        "# generate class probabilities\n",
        "probsBest_recall = best_RF_model_recall.predict_proba(X_test)\n",
        "\n",
        "results_recall = pd.DataFrame(grid_search_rf_recall.cv_results_)# recall score is different from above, as above is metric on test data, this is performance on cv data\n",
        "results_sortrecall = results_recall.sort_values(by='mean_test_recall_score', ascending=False)\n",
        "results_sortrecall[['mean_test_precision_score', 'mean_test_recall_score', 'mean_test_f1_score', 'mean_train_precision_score', 'mean_train_recall_score', 'mean_train_f1_score','param_max_depth', 'param_class_weight', 'param_n_estimators']].round(3).head()\n",
        "#recall is worse than default rf?? no this is on test, but train recall is better"
      ],
      "execution_count": null,
      "outputs": [
        {
          "output_type": "execute_result",
          "data": {
            "text/html": [
              "<div>\n",
              "<style scoped>\n",
              "    .dataframe tbody tr th:only-of-type {\n",
              "        vertical-align: middle;\n",
              "    }\n",
              "\n",
              "    .dataframe tbody tr th {\n",
              "        vertical-align: top;\n",
              "    }\n",
              "\n",
              "    .dataframe thead th {\n",
              "        text-align: right;\n",
              "    }\n",
              "</style>\n",
              "<table border=\"1\" class=\"dataframe\">\n",
              "  <thead>\n",
              "    <tr style=\"text-align: right;\">\n",
              "      <th></th>\n",
              "      <th>mean_test_precision_score</th>\n",
              "      <th>mean_test_recall_score</th>\n",
              "      <th>mean_test_f1_score</th>\n",
              "      <th>mean_train_precision_score</th>\n",
              "      <th>mean_train_recall_score</th>\n",
              "      <th>mean_train_f1_score</th>\n",
              "      <th>param_max_depth</th>\n",
              "      <th>param_class_weight</th>\n",
              "      <th>param_n_estimators</th>\n",
              "    </tr>\n",
              "  </thead>\n",
              "  <tbody>\n",
              "    <tr>\n",
              "      <th>15</th>\n",
              "      <td>0.159</td>\n",
              "      <td>0.636</td>\n",
              "      <td>0.254</td>\n",
              "      <td>0.164</td>\n",
              "      <td>0.656</td>\n",
              "      <td>0.262</td>\n",
              "      <td>5</td>\n",
              "      <td>{0: 1, 1: 100}</td>\n",
              "      <td>150</td>\n",
              "    </tr>\n",
              "    <tr>\n",
              "      <th>14</th>\n",
              "      <td>0.160</td>\n",
              "      <td>0.633</td>\n",
              "      <td>0.255</td>\n",
              "      <td>0.162</td>\n",
              "      <td>0.652</td>\n",
              "      <td>0.260</td>\n",
              "      <td>5</td>\n",
              "      <td>{0: 1, 1: 100}</td>\n",
              "      <td>10</td>\n",
              "    </tr>\n",
              "    <tr>\n",
              "      <th>16</th>\n",
              "      <td>0.675</td>\n",
              "      <td>0.533</td>\n",
              "      <td>0.593</td>\n",
              "      <td>0.759</td>\n",
              "      <td>0.813</td>\n",
              "      <td>0.782</td>\n",
              "      <td>15</td>\n",
              "      <td>{0: 1, 1: 100}</td>\n",
              "      <td>10</td>\n",
              "    </tr>\n",
              "    <tr>\n",
              "      <th>0</th>\n",
              "      <td>1.000</td>\n",
              "      <td>0.527</td>\n",
              "      <td>0.690</td>\n",
              "      <td>1.000</td>\n",
              "      <td>0.857</td>\n",
              "      <td>0.923</td>\n",
              "      <td>None</td>\n",
              "      <td>{0: 1, 1: 0.2}</td>\n",
              "      <td>10</td>\n",
              "    </tr>\n",
              "    <tr>\n",
              "      <th>1</th>\n",
              "      <td>1.000</td>\n",
              "      <td>0.527</td>\n",
              "      <td>0.690</td>\n",
              "      <td>1.000</td>\n",
              "      <td>1.000</td>\n",
              "      <td>1.000</td>\n",
              "      <td>None</td>\n",
              "      <td>{0: 1, 1: 0.2}</td>\n",
              "      <td>150</td>\n",
              "    </tr>\n",
              "  </tbody>\n",
              "</table>\n",
              "</div>"
            ],
            "text/plain": [
              "    mean_test_precision_score  ...  param_n_estimators\n",
              "15                      0.159  ...                 150\n",
              "14                      0.160  ...                  10\n",
              "16                      0.675  ...                  10\n",
              "0                       1.000  ...                  10\n",
              "1                       1.000  ...                 150\n",
              "\n",
              "[5 rows x 9 columns]"
            ]
          },
          "metadata": {
            "tags": []
          },
          "execution_count": 41
        }
      ]
    },
    {
      "cell_type": "code",
      "metadata": {
        "id": "jL6RHnausPcH",
        "outputId": "9a23b41b-b9c8-42aa-81f2-2da1fb3a42df",
        "colab": {
          "base_uri": "https://localhost:8080/",
          "height": 266
        }
      },
      "source": [
        "\n",
        "trainDF = pd.concat([X_train, y_train], axis=1)\n",
        "pd.crosstab(trainDF[\"n_dev_shared\"],trainDF[\"class\"])\n",
        "#the larger n_dev_shared, the higher rate of fraud"
      ],
      "execution_count": null,
      "outputs": [
        {
          "output_type": "execute_result",
          "data": {
            "text/html": [
              "<div>\n",
              "<style scoped>\n",
              "    .dataframe tbody tr th:only-of-type {\n",
              "        vertical-align: middle;\n",
              "    }\n",
              "\n",
              "    .dataframe tbody tr th {\n",
              "        vertical-align: top;\n",
              "    }\n",
              "\n",
              "    .dataframe thead th {\n",
              "        text-align: right;\n",
              "    }\n",
              "</style>\n",
              "<table border=\"1\" class=\"dataframe\">\n",
              "  <thead>\n",
              "    <tr style=\"text-align: right;\">\n",
              "      <th>class</th>\n",
              "      <th>0</th>\n",
              "      <th>1</th>\n",
              "    </tr>\n",
              "    <tr>\n",
              "      <th>n_dev_shared</th>\n",
              "      <th></th>\n",
              "      <th></th>\n",
              "    </tr>\n",
              "  </thead>\n",
              "  <tbody>\n",
              "    <tr>\n",
              "      <th>0.0</th>\n",
              "      <td>104966</td>\n",
              "      <td>461</td>\n",
              "    </tr>\n",
              "    <tr>\n",
              "      <th>0.2</th>\n",
              "      <td>4403</td>\n",
              "      <td>371</td>\n",
              "    </tr>\n",
              "    <tr>\n",
              "      <th>0.4</th>\n",
              "      <td>152</td>\n",
              "      <td>172</td>\n",
              "    </tr>\n",
              "    <tr>\n",
              "      <th>0.6</th>\n",
              "      <td>37</td>\n",
              "      <td>87</td>\n",
              "    </tr>\n",
              "    <tr>\n",
              "      <th>0.8</th>\n",
              "      <td>13</td>\n",
              "      <td>32</td>\n",
              "    </tr>\n",
              "    <tr>\n",
              "      <th>1.0</th>\n",
              "      <td>1</td>\n",
              "      <td>5</td>\n",
              "    </tr>\n",
              "  </tbody>\n",
              "</table>\n",
              "</div>"
            ],
            "text/plain": [
              "class              0    1\n",
              "n_dev_shared             \n",
              "0.0           104966  461\n",
              "0.2             4403  371\n",
              "0.4              152  172\n",
              "0.6               37   87\n",
              "0.8               13   32\n",
              "1.0                1    5"
            ]
          },
          "metadata": {
            "tags": []
          },
          "execution_count": 42
        }
      ]
    },
    {
      "cell_type": "code",
      "metadata": {
        "id": "cYog2kSTsakj",
        "outputId": "6ff9237b-5df1-46d6-d90f-e3ef4818e099",
        "colab": {
          "base_uri": "https://localhost:8080/",
          "height": 142
        }
      },
      "source": [
        "fraud_data.groupby(\"class\")[['interval_after_signup']].mean()#action velocity(consecutive operations/actions of user)\n",
        "#interval_after_signup on frauds are significantly lower compared to legits"
      ],
      "execution_count": null,
      "outputs": [
        {
          "output_type": "execute_result",
          "data": {
            "text/html": [
              "<div>\n",
              "<style scoped>\n",
              "    .dataframe tbody tr th:only-of-type {\n",
              "        vertical-align: middle;\n",
              "    }\n",
              "\n",
              "    .dataframe tbody tr th {\n",
              "        vertical-align: top;\n",
              "    }\n",
              "\n",
              "    .dataframe thead th {\n",
              "        text-align: right;\n",
              "    }\n",
              "</style>\n",
              "<table border=\"1\" class=\"dataframe\">\n",
              "  <thead>\n",
              "    <tr style=\"text-align: right;\">\n",
              "      <th></th>\n",
              "      <th>interval_after_signup</th>\n",
              "    </tr>\n",
              "    <tr>\n",
              "      <th>class</th>\n",
              "      <th></th>\n",
              "    </tr>\n",
              "  </thead>\n",
              "  <tbody>\n",
              "    <tr>\n",
              "      <th>0</th>\n",
              "      <td>5.191179e+06</td>\n",
              "    </tr>\n",
              "    <tr>\n",
              "      <th>1</th>\n",
              "      <td>2.570226e+06</td>\n",
              "    </tr>\n",
              "  </tbody>\n",
              "</table>\n",
              "</div>"
            ],
            "text/plain": [
              "       interval_after_signup\n",
              "class                       \n",
              "0               5.191179e+06\n",
              "1               2.570226e+06"
            ]
          },
          "metadata": {
            "tags": []
          },
          "execution_count": 43
        }
      ]
    },
    {
      "cell_type": "code",
      "metadata": {
        "id": "qtX09Ptpujgi",
        "outputId": "c686e3dd-997a-4a68-868a-6f64cc6f10aa",
        "colab": {
          "base_uri": "https://localhost:8080/",
          "height": 142
        }
      },
      "source": [
        "fraud_data.groupby(\"class\")[['interval_after_signup']].median()#1\n",
        "#more than half of fraud happened 1s after signed up"
      ],
      "execution_count": null,
      "outputs": [
        {
          "output_type": "execute_result",
          "data": {
            "text/html": [
              "<div>\n",
              "<style scoped>\n",
              "    .dataframe tbody tr th:only-of-type {\n",
              "        vertical-align: middle;\n",
              "    }\n",
              "\n",
              "    .dataframe tbody tr th {\n",
              "        vertical-align: top;\n",
              "    }\n",
              "\n",
              "    .dataframe thead th {\n",
              "        text-align: right;\n",
              "    }\n",
              "</style>\n",
              "<table border=\"1\" class=\"dataframe\">\n",
              "  <thead>\n",
              "    <tr style=\"text-align: right;\">\n",
              "      <th></th>\n",
              "      <th>interval_after_signup</th>\n",
              "    </tr>\n",
              "    <tr>\n",
              "      <th>class</th>\n",
              "      <th></th>\n",
              "    </tr>\n",
              "  </thead>\n",
              "  <tbody>\n",
              "    <tr>\n",
              "      <th>0</th>\n",
              "      <td>5194911.0</td>\n",
              "    </tr>\n",
              "    <tr>\n",
              "      <th>1</th>\n",
              "      <td>1.0</td>\n",
              "    </tr>\n",
              "  </tbody>\n",
              "</table>\n",
              "</div>"
            ],
            "text/plain": [
              "       interval_after_signup\n",
              "class                       \n",
              "0                  5194911.0\n",
              "1                        1.0"
            ]
          },
          "metadata": {
            "tags": []
          },
          "execution_count": 44
        }
      ]
    },
    {
      "cell_type": "code",
      "metadata": {
        "id": "7Ui_Bk1MulOl",
        "outputId": "33bf84bd-419b-417b-abe3-44dd9dfd8b2e",
        "colab": {
          "base_uri": "https://localhost:8080/",
          "height": 419
        }
      },
      "source": [
        "fraud_data[fraud_data['class'] == 1].head(100)"
      ],
      "execution_count": null,
      "outputs": [
        {
          "output_type": "execute_result",
          "data": {
            "text/html": [
              "<div>\n",
              "<style scoped>\n",
              "    .dataframe tbody tr th:only-of-type {\n",
              "        vertical-align: middle;\n",
              "    }\n",
              "\n",
              "    .dataframe tbody tr th {\n",
              "        vertical-align: top;\n",
              "    }\n",
              "\n",
              "    .dataframe thead th {\n",
              "        text-align: right;\n",
              "    }\n",
              "</style>\n",
              "<table border=\"1\" class=\"dataframe\">\n",
              "  <thead>\n",
              "    <tr style=\"text-align: right;\">\n",
              "      <th></th>\n",
              "      <th>purchase_value</th>\n",
              "      <th>device_id</th>\n",
              "      <th>source</th>\n",
              "      <th>browser</th>\n",
              "      <th>sex</th>\n",
              "      <th>age</th>\n",
              "      <th>ip_address</th>\n",
              "      <th>class</th>\n",
              "      <th>country</th>\n",
              "      <th>interval_after_signup</th>\n",
              "      <th>signup_days_of_year</th>\n",
              "      <th>signup_seconds_of_day</th>\n",
              "      <th>purchase_days_of_year</th>\n",
              "      <th>purchase_seconds_of_day</th>\n",
              "    </tr>\n",
              "  </thead>\n",
              "  <tbody>\n",
              "    <tr>\n",
              "      <th>136961</th>\n",
              "      <td>24</td>\n",
              "      <td>VLHGCDPFCICDA</td>\n",
              "      <td>SEO</td>\n",
              "      <td>Chrome</td>\n",
              "      <td>F</td>\n",
              "      <td>33</td>\n",
              "      <td>3.432126e+09</td>\n",
              "      <td>1</td>\n",
              "      <td>United States</td>\n",
              "      <td>3327952.0</td>\n",
              "      <td>218</td>\n",
              "      <td>80113</td>\n",
              "      <td>257</td>\n",
              "      <td>38465</td>\n",
              "    </tr>\n",
              "    <tr>\n",
              "      <th>136962</th>\n",
              "      <td>14</td>\n",
              "      <td>YLUQSRNYYIPXU</td>\n",
              "      <td>Ads</td>\n",
              "      <td>Chrome</td>\n",
              "      <td>M</td>\n",
              "      <td>40</td>\n",
              "      <td>3.905319e+09</td>\n",
              "      <td>1</td>\n",
              "      <td>NA</td>\n",
              "      <td>1.0</td>\n",
              "      <td>12</td>\n",
              "      <td>4207</td>\n",
              "      <td>12</td>\n",
              "      <td>4208</td>\n",
              "    </tr>\n",
              "    <tr>\n",
              "      <th>136963</th>\n",
              "      <td>63</td>\n",
              "      <td>ABUBCQDATQMQH</td>\n",
              "      <td>Ads</td>\n",
              "      <td>FireFox</td>\n",
              "      <td>F</td>\n",
              "      <td>46</td>\n",
              "      <td>5.505670e+08</td>\n",
              "      <td>1</td>\n",
              "      <td>United States</td>\n",
              "      <td>7640070.0</td>\n",
              "      <td>49</td>\n",
              "      <td>40723</td>\n",
              "      <td>137</td>\n",
              "      <td>77593</td>\n",
              "    </tr>\n",
              "    <tr>\n",
              "      <th>136964</th>\n",
              "      <td>34</td>\n",
              "      <td>QHEODGCAVJKIQ</td>\n",
              "      <td>SEO</td>\n",
              "      <td>Chrome</td>\n",
              "      <td>M</td>\n",
              "      <td>37</td>\n",
              "      <td>9.408096e+08</td>\n",
              "      <td>1</td>\n",
              "      <td>United States</td>\n",
              "      <td>1.0</td>\n",
              "      <td>12</td>\n",
              "      <td>77710</td>\n",
              "      <td>12</td>\n",
              "      <td>77711</td>\n",
              "    </tr>\n",
              "    <tr>\n",
              "      <th>136965</th>\n",
              "      <td>76</td>\n",
              "      <td>DAKVYHKIEYRBH</td>\n",
              "      <td>SEO</td>\n",
              "      <td>Chrome</td>\n",
              "      <td>F</td>\n",
              "      <td>48</td>\n",
              "      <td>6.361041e+08</td>\n",
              "      <td>1</td>\n",
              "      <td>Hungary</td>\n",
              "      <td>1.0</td>\n",
              "      <td>10</td>\n",
              "      <td>48421</td>\n",
              "      <td>10</td>\n",
              "      <td>48422</td>\n",
              "    </tr>\n",
              "    <tr>\n",
              "      <th>...</th>\n",
              "      <td>...</td>\n",
              "      <td>...</td>\n",
              "      <td>...</td>\n",
              "      <td>...</td>\n",
              "      <td>...</td>\n",
              "      <td>...</td>\n",
              "      <td>...</td>\n",
              "      <td>...</td>\n",
              "      <td>...</td>\n",
              "      <td>...</td>\n",
              "      <td>...</td>\n",
              "      <td>...</td>\n",
              "      <td>...</td>\n",
              "      <td>...</td>\n",
              "    </tr>\n",
              "    <tr>\n",
              "      <th>137056</th>\n",
              "      <td>21</td>\n",
              "      <td>AIGPGDVRDKOKT</td>\n",
              "      <td>SEO</td>\n",
              "      <td>FireFox</td>\n",
              "      <td>F</td>\n",
              "      <td>45</td>\n",
              "      <td>3.058136e+09</td>\n",
              "      <td>1</td>\n",
              "      <td>India</td>\n",
              "      <td>1.0</td>\n",
              "      <td>2</td>\n",
              "      <td>69762</td>\n",
              "      <td>2</td>\n",
              "      <td>69763</td>\n",
              "    </tr>\n",
              "    <tr>\n",
              "      <th>137057</th>\n",
              "      <td>52</td>\n",
              "      <td>PQGKGQACIARBV</td>\n",
              "      <td>Ads</td>\n",
              "      <td>Chrome</td>\n",
              "      <td>F</td>\n",
              "      <td>36</td>\n",
              "      <td>7.203338e+08</td>\n",
              "      <td>1</td>\n",
              "      <td>China</td>\n",
              "      <td>1.0</td>\n",
              "      <td>9</td>\n",
              "      <td>77018</td>\n",
              "      <td>9</td>\n",
              "      <td>77019</td>\n",
              "    </tr>\n",
              "    <tr>\n",
              "      <th>137058</th>\n",
              "      <td>54</td>\n",
              "      <td>XHZBVWFWHSGTQ</td>\n",
              "      <td>SEO</td>\n",
              "      <td>FireFox</td>\n",
              "      <td>M</td>\n",
              "      <td>50</td>\n",
              "      <td>2.249217e+09</td>\n",
              "      <td>1</td>\n",
              "      <td>United States</td>\n",
              "      <td>1.0</td>\n",
              "      <td>1</td>\n",
              "      <td>32483</td>\n",
              "      <td>1</td>\n",
              "      <td>32484</td>\n",
              "    </tr>\n",
              "    <tr>\n",
              "      <th>137059</th>\n",
              "      <td>10</td>\n",
              "      <td>WETYPHOQVLWMK</td>\n",
              "      <td>Ads</td>\n",
              "      <td>FireFox</td>\n",
              "      <td>M</td>\n",
              "      <td>36</td>\n",
              "      <td>2.293333e+09</td>\n",
              "      <td>1</td>\n",
              "      <td>United States</td>\n",
              "      <td>1.0</td>\n",
              "      <td>7</td>\n",
              "      <td>63914</td>\n",
              "      <td>7</td>\n",
              "      <td>63915</td>\n",
              "    </tr>\n",
              "    <tr>\n",
              "      <th>137060</th>\n",
              "      <td>69</td>\n",
              "      <td>UWEPEOUQYEPZF</td>\n",
              "      <td>Direct</td>\n",
              "      <td>Chrome</td>\n",
              "      <td>M</td>\n",
              "      <td>36</td>\n",
              "      <td>2.534293e+09</td>\n",
              "      <td>1</td>\n",
              "      <td>Italy</td>\n",
              "      <td>1.0</td>\n",
              "      <td>8</td>\n",
              "      <td>41850</td>\n",
              "      <td>8</td>\n",
              "      <td>41851</td>\n",
              "    </tr>\n",
              "  </tbody>\n",
              "</table>\n",
              "<p>100 rows × 14 columns</p>\n",
              "</div>"
            ],
            "text/plain": [
              "        purchase_value  ... purchase_seconds_of_day\n",
              "136961              24  ...                   38465\n",
              "136962              14  ...                    4208\n",
              "136963              63  ...                   77593\n",
              "136964              34  ...                   77711\n",
              "136965              76  ...                   48422\n",
              "...                ...  ...                     ...\n",
              "137056              21  ...                   69763\n",
              "137057              52  ...                   77019\n",
              "137058              54  ...                   32484\n",
              "137059              10  ...                   63915\n",
              "137060              69  ...                   41851\n",
              "\n",
              "[100 rows x 14 columns]"
            ]
          },
          "metadata": {
            "tags": []
          },
          "execution_count": 45
        }
      ]
    },
    {
      "cell_type": "code",
      "metadata": {
        "id": "EIv6OBKkuny9",
        "outputId": "a6bbc26c-ce62-4654-c439-899a5262a294",
        "colab": {
          "base_uri": "https://localhost:8080/",
          "height": 170
        }
      },
      "source": [
        "\n",
        "t = (10 * probsBest_recall[:, 1]).astype(int)\n",
        "unique, counts = np.unique(t, return_counts=True)\n",
        "\n",
        "print(np.asarray((unique, counts)).T)\n",
        "\n",
        "\n",
        "#recommended:\n",
        "#green: 1 - 3 pass\n",
        "#grey: 4-7 need manual investigation\n",
        "#red: 8,9 decline"
      ],
      "execution_count": null,
      "outputs": [
        {
          "output_type": "stream",
          "text": [
            "[[    1     1]\n",
            " [    2 24555]\n",
            " [    3  2623]\n",
            " [    4    99]\n",
            " [    5   177]\n",
            " [    6    76]\n",
            " [    7     1]\n",
            " [    8    20]\n",
            " [    9   124]]\n"
          ],
          "name": "stdout"
        }
      ]
    }
  ]
}